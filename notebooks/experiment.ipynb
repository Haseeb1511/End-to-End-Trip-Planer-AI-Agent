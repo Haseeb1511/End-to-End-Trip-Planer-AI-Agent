{
 "cells": [
  {
   "cell_type": "code",
   "execution_count": null,
   "id": "81a9a799",
   "metadata": {},
   "outputs": [
    {
     "data": {
      "text/plain": [
       "2"
      ]
     },
     "execution_count": 2,
     "metadata": {},
     "output_type": "execute_result"
    }
   ],
   "source": [
    "from langgraph.prebuilt import ToolNode,tools_condition\n",
    "from langgraph.graph import StateGraph,START,END,MessagesState\n",
    "from langgraph.graph.message import add_messages\n",
    "from langchain_openai import ChatOpenAI\n",
    "from typing import TypedDict,List,Annotated"
   ]
  },
  {
   "cell_type": "code",
   "execution_count": null,
   "id": "6ecb3397",
   "metadata": {},
   "outputs": [],
   "source": [
    "from langchain_core.messages import SystemMessage\n",
    "\n",
    "SYSTEM_PROMPT = SystemMessage(\n",
    "    content=\"\"\"\n",
    "You are a helpful and knowledgeable AI Travel Agent and Expense Planner.  \n",
    "Your job is to help users plan trips to any destination worldwide using up-to-date, real-time information from the internet.\n",
    "\n",
    "For each request, provide a complete, comprehensive, and detailed travel plan. Always offer two options:  \n",
    "1. An itinerary covering the most popular and iconic tourist attractions.  \n",
    "2. An alternative itinerary featuring more offbeat, unique, and lesser-known locations in and around the chosen destination.\n",
    "\n",
    "Your travel plan must include the following details:\n",
    "- A day-by-day itinerary with activities, timings, and travel tips.\n",
    "- Recommended hotels or accommodations, including approximate per-night costs and booking tips.\n",
    "- A list of places to visit with brief descriptions and highlights.\n",
    "- Suggestions for local restaurants or cafes, with approximate prices and cuisine types.\n",
    "- Activities and experiences available nearby, with details and any costs.\n",
    "- Modes of transportation available within the area, including local travel options and approximate fares.\n",
    "- A detailed cost breakdown, covering accommodation, food, transport, activities, and any other expenses.\n",
    "- An estimated daily budget to help users plan their finances.\n",
    "- A short note on the weather condition.\n",
    "\n",
    "Use the available tools to gather information and make detailed cost breakdowns.\n",
    "\n",
    "Always provide your response in clear, organized Markdown format for easy reading.\n",
    "\n",
    "Stay friendly, helpful, and practical — your goal is to make trip planning stress-free, personalized, and cost-effective for every user.\n",
    "\"\"\"\n",
    ")"
   ]
  },
  {
   "cell_type": "markdown",
   "id": "9939702e",
   "metadata": {},
   "source": [
    "## Weather Tool"
   ]
  },
  {
   "cell_type": "code",
   "execution_count": null,
   "id": "9aff1a6c",
   "metadata": {},
   "outputs": [],
   "source": [
    "import os\n",
    "import requests\n",
    "\n",
    "api_key = os.getenv(\"OPENWEATHER_API_K\")\n",
    "base_url  = \"https://api.openweathermap.org/data/2.5\"\n",
    "\n",
    "def get_current_weather(place:str):\n",
    "    try:\n",
    "        url = f\"{base_url}/weather\"\n",
    "        param = {\"q\":place,\n",
    "                \"appid\":api_key}\n",
    "        response = requests.get(url=url,params=param)\n",
    "        return response.json() if response.status_code==200 else {}\n",
    "    except Exception as e:\n",
    "        print(f\"An error occured while connecting with weather api :{e}\")     \n",
    "\n",
    "def get_forecast_weather(place:str):\n",
    "    try:\n",
    "        url = f\"{base_url}/forecast\"\n",
    "        param = {\"q\":place,\n",
    "                    \"appid\":api_key,\n",
    "                    \"cnt\":10,\n",
    "                    \"units\":\"metric\"}\n",
    "        response = requests.get(url=url,params=param)\n",
    "        return response.json() if response.status_code==200 else {}\n",
    "    except Exception as e:\n",
    "        print(f\"An error occured while connecting with weather api :{e}\")\n",
    "\n",
    "def get_current_weather(city:str)->str:\n",
    "    \"\"\"Get current weather for a Given City\"\"\"\n",
    "    weather_data = get_current_weather(city)\n",
    "    if weather_data:\n",
    "        temp = weather_data.get('main', {}).get('temp', 'N/A') #Get tempreature of city\n",
    "        desc = weather_data.get('weather', [{}])[0].get('description', 'N/A') #Get descritption \n",
    "        return f\"Current weather in {city}: {temp}°C, {desc}\"\n",
    "    return f\"Could not fetch weather for {city}\"\n",
    "        \n",
    "def get_weather_forecast(city:str)->str:\n",
    "    \"\"\"Get weather forecast for City\"\"\"\n",
    "    forecast_data = get_forecast_weather(city)\n",
    "    if forecast_data and \"list\" in forecast_data:\n",
    "        forecast_summary  = []\n",
    "        for i in range(len(forecast_data[\"list\"])):\n",
    "            item = forecast_data['list'][i]\n",
    "            date = item['dt_txt'].split(' ')[0]\n",
    "            temp = item['main']['temp']\n",
    "            desc = item['weather'][0]['description']\n",
    "            forecast_summary.append(f\"{date}: {temp} degree celcius , {desc}\")\n",
    "        return f\"Weather forecast for {city}:\\n\" + \"\\n\".join(forecast_summary)\n",
    "    return f\"Could not fetch forecast for {city}\""
   ]
  },
  {
   "cell_type": "code",
   "execution_count": null,
   "id": "20db3a8b",
   "metadata": {},
   "outputs": [],
   "source": [
    "llm = ChatOpenAI(model=\"gpt-4.1-nano\")\n",
    "tools = []\n",
    "llm_with_tools = llm.bind_tools(tools)\n",
    "\n",
    "def agent_function(state:MessagesState):\n",
    "    return {\"messages\":[llm_with_tools.invoke(state[\"messages\"])]}"
   ]
  },
  {
   "cell_type": "code",
   "execution_count": null,
   "id": "4d214c6e",
   "metadata": {},
   "outputs": [],
   "source": [
    "graph_builder = StateGraph(MessagesState)\n",
    "graph_builder.add_node(\"agent\",agent_function)\n",
    "graph_builder.add_edge(START,\"agent\")\n",
    "graph_builder.add_node(\"tools\",ToolNode(tools=tools))\n",
    "graph_builder.add_conditional_edges(\"agent\",tools_condition)\n",
    "graph_builder.add_edge(\"tools\",\"agent\")\n",
    "graph_builder.add_edge(\"agent\",END)\n",
    "\n",
    "graph = graph_builder.compile()\n",
    "\n",
    "from IPython.display import display,Image\n",
    "display(Image(graph.get_graph().draw_mermaid_png()))"
   ]
  },
  {
   "cell_type": "code",
   "execution_count": null,
   "id": "ccd9d235",
   "metadata": {},
   "outputs": [],
   "source": [
    "graph.invoke({\"messages\":\"what is the weather of Islamabad?\"})"
   ]
  },
  {
   "cell_type": "code",
   "execution_count": null,
   "id": "aa8f95b8",
   "metadata": {},
   "outputs": [],
   "source": []
  }
 ],
 "metadata": {
  "kernelspec": {
   "display_name": ".venv",
   "language": "python",
   "name": "python3"
  },
  "language_info": {
   "codemirror_mode": {
    "name": "ipython",
    "version": 3
   },
   "file_extension": ".py",
   "mimetype": "text/x-python",
   "name": "python",
   "nbconvert_exporter": "python",
   "pygments_lexer": "ipython3",
   "version": "3.12.7"
  }
 },
 "nbformat": 4,
 "nbformat_minor": 5
}
